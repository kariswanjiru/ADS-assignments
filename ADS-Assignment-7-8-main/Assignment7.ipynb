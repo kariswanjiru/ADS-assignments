{
 "cells": [
  {
   "cell_type": "markdown",
   "id": "d6ce4e72-59b4-400c-beae-783f90699bfa",
   "metadata": {},
   "source": [
    "# Assignment 7"
   ]
  },
  {
   "cell_type": "markdown",
   "id": "e103a390-ab57-421f-93d9-db6d5951e49e",
   "metadata": {},
   "source": [
    "import libraries to be used"
   ]
  },
  {
   "cell_type": "code",
   "execution_count": 2,
   "id": "3ccf7b09-5669-48ab-be7a-e743b2e26d4f",
   "metadata": {},
   "outputs": [],
   "source": [
    "import numpy as np\n",
    "import pandas as pd\n",
    "import matplotlib.pyplot as plt\n",
    "import seaborn as sns\n",
    "import plotly.express as px\n",
    "import sklearn"
   ]
  },
  {
   "cell_type": "markdown",
   "id": "25cc5315-cbb3-4591-b4ef-da1e6984b7e2",
   "metadata": {},
   "source": [
    "## Question 1"
   ]
  },
  {
   "cell_type": "markdown",
   "id": "7b0b66f1-6c7b-473a-b7a2-811e4b3cc5ed",
   "metadata": {},
   "source": [
    "Import the data set, ‘insurance’. The column ‘charges’ should be considered as your target\n",
    "label. "
   ]
  },
  {
   "cell_type": "code",
   "execution_count": 7,
   "id": "9ac8e2f1-26e2-4415-ba31-00101d14f263",
   "metadata": {},
   "outputs": [
    {
     "data": {
      "text/plain": [
       "<pandas.core.groupby.generic.DataFrameGroupBy object at 0x00000219808EB760>"
      ]
     },
     "execution_count": 7,
     "metadata": {},
     "output_type": "execute_result"
    }
   ],
   "source": [
    "Insurance = pd.read_csv(r\"insurance.csv\")\n",
    "Insurance.groupby('charges')"
   ]
  },
  {
   "cell_type": "markdown",
   "id": "ed56f89e-c146-4b8c-b738-101044bc3208",
   "metadata": {},
   "source": [
    "## Question 2"
   ]
  },
  {
   "cell_type": "markdown",
   "id": "b5f8228f-22c6-4355-8882-90bd6009469c",
   "metadata": {},
   "source": [
    "Explore the data using at least 3 data exploratory tools of your choosing in pandas and\n",
    "interpret your observation in a markdown cell of what form of predictive analysis that can\n",
    "be conducted on the data."
   ]
  },
  {
   "cell_type": "code",
   "execution_count": null,
   "id": "2a1acafb-1186-4620-a760-505d9227479e",
   "metadata": {},
   "outputs": [],
   "source": []
  },
  {
   "cell_type": "markdown",
   "id": "6c9fc2d5-2bb2-4901-a0c8-998dced2e908",
   "metadata": {},
   "source": [
    "## Question 3"
   ]
  },
  {
   "cell_type": "markdown",
   "id": "f1bb6466-8fd2-4a8a-ac41-14795183691f",
   "metadata": {},
   "source": [
    "Visualize the age distribution for the column ‘age’ and comment on the results in a\n",
    "markdown cell as well. (Ensure your visualization is of an appropriate size for effective\n",
    "analysis) "
   ]
  },
  {
   "cell_type": "code",
   "execution_count": null,
   "id": "6c8f2782-af4c-4ff9-930b-5477ff81cdfd",
   "metadata": {},
   "outputs": [],
   "source": []
  },
  {
   "cell_type": "markdown",
   "id": "63924115-c35d-4191-a68a-0519174b9ae9",
   "metadata": {},
   "source": [
    "## Question 4"
   ]
  },
  {
   "cell_type": "markdown",
   "id": "35a22ae4-4f84-4311-9d7c-157b21b0c461",
   "metadata": {},
   "source": [
    "Isolate all the continuous and discrete columns into their respective lists named\n",
    "‘numerical_continuous’ and ‘numerical_discrete’ respectively. "
   ]
  },
  {
   "cell_type": "code",
   "execution_count": null,
   "id": "faba863d-204c-4cd5-8b31-bd4c75acf43c",
   "metadata": {},
   "outputs": [],
   "source": []
  },
  {
   "cell_type": "markdown",
   "id": "319e9b46-aa77-474e-a7e1-b418f1d0abff",
   "metadata": {},
   "source": [
    "## Question 5"
   ]
  },
  {
   "cell_type": "markdown",
   "id": "e7cd66d9-9249-4c83-8a64-0ff86f0a6dc3",
   "metadata": {},
   "source": [
    "Visually identify if there is presence of any outliers in the numerical_continuous columns\n",
    "and resolve them using a zscore test and a threshold of your choosing. "
   ]
  },
  {
   "cell_type": "code",
   "execution_count": null,
   "id": "79b1fb8f-e496-42a9-be30-bd149b7ddd62",
   "metadata": {},
   "outputs": [],
   "source": []
  },
  {
   "cell_type": "markdown",
   "id": "a44af334-88a0-4cab-93cb-983f80e3e2c0",
   "metadata": {},
   "source": [
    "## Question 6"
   ]
  },
  {
   "cell_type": "markdown",
   "id": "9e567d4d-7bfc-4e63-9e02-430467c0cf2f",
   "metadata": {},
   "source": [
    "Validate that your analysis above was successful by visualizing the value distribution in\n",
    "the resulting columns using an appropriate visualization method. "
   ]
  },
  {
   "cell_type": "code",
   "execution_count": null,
   "id": "126a930e-9fe2-40ac-a37d-d6019f0d8a40",
   "metadata": {},
   "outputs": [],
   "source": []
  },
  {
   "cell_type": "markdown",
   "id": "f9fd4da5-053c-4b11-bba4-75b24310b455",
   "metadata": {},
   "source": [
    "## Question 7"
   ]
  },
  {
   "cell_type": "markdown",
   "id": "2c3b06d5-e8cd-4cb8-b1d8-e4b803ef54e1",
   "metadata": {},
   "source": [
    "Isolate all the categorical column names into a list named ‘categorical’. "
   ]
  },
  {
   "cell_type": "code",
   "execution_count": null,
   "id": "a66b541c-146f-43fa-9c1c-8ab6d30c95c9",
   "metadata": {},
   "outputs": [],
   "source": []
  },
  {
   "cell_type": "markdown",
   "id": "d2b2b09c-46c1-489f-a04e-879892d5735c",
   "metadata": {},
   "source": [
    "## Question 8"
   ]
  },
  {
   "cell_type": "markdown",
   "id": "a84e385a-c9f2-4ae2-8dcd-3a86e085c0b9",
   "metadata": {},
   "source": [
    "Visually identify the outliers in the discrete and categorical features and resolve them using\n",
    "the combined rare levels method."
   ]
  },
  {
   "cell_type": "code",
   "execution_count": null,
   "id": "28f922d1-0d7f-4fa4-be0a-e8da76744dd1",
   "metadata": {},
   "outputs": [],
   "source": []
  },
  {
   "cell_type": "markdown",
   "id": "f3925bbb-f65d-46b4-bc6d-1cd12aa8c926",
   "metadata": {},
   "source": [
    "## Question 9"
   ]
  },
  {
   "cell_type": "markdown",
   "id": "6a95a7d7-3e86-4fc9-9170-c797df0cd8ff",
   "metadata": {},
   "source": [
    "Encode the discrete and categorical features with one of the measures of central tendency\n",
    "of your choosing."
   ]
  },
  {
   "cell_type": "code",
   "execution_count": null,
   "id": "ff0aee54-33b6-4aa1-9143-daaca0c53724",
   "metadata": {},
   "outputs": [],
   "source": []
  },
  {
   "cell_type": "markdown",
   "id": "3d32216f-fd8f-4551-8e90-358a62dfe895",
   "metadata": {},
   "source": [
    "## Question 10"
   ]
  },
  {
   "cell_type": "markdown",
   "id": "586cbce0-bed8-4b20-8402-3b06dca032fc",
   "metadata": {},
   "source": [
    "Separate your features from the target appropriately. Narrow down the number of features\n",
    "to 5 using the most appropriate and accurate method. Which feature had to be dropped and\n",
    "what inference would you give as the main contributor of dropping the given feature."
   ]
  },
  {
   "cell_type": "code",
   "execution_count": null,
   "id": "09c44ec9-9bbd-4be1-b97c-40f2aa87de2f",
   "metadata": {},
   "outputs": [],
   "source": []
  }
 ],
 "metadata": {
  "kernelspec": {
   "display_name": "Python 3 (ipykernel)",
   "language": "python",
   "name": "python3"
  },
  "language_info": {
   "codemirror_mode": {
    "name": "ipython",
    "version": 3
   },
   "file_extension": ".py",
   "mimetype": "text/x-python",
   "name": "python",
   "nbconvert_exporter": "python",
   "pygments_lexer": "ipython3",
   "version": "3.9.7"
  }
 },
 "nbformat": 4,
 "nbformat_minor": 5
}
