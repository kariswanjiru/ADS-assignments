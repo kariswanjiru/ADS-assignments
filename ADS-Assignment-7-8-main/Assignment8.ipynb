{
 "cells": [
  {
   "cell_type": "markdown",
   "id": "0aa2fcff-1e1e-423e-bdd2-958f806e30cc",
   "metadata": {},
   "source": [
    "# Assignment 8"
   ]
  },
  {
   "cell_type": "markdown",
   "id": "f76e0e2f-d2bc-42e5-ae3e-c270b207e09f",
   "metadata": {},
   "source": [
    "This is a continuation of the analysis done from assignment 7. Based on the feature columns\n",
    "identified, use them in your prediction analysis. You are advised to confirm back to the notes as\n",
    "well as make good use of the Scikit-Learn documentation."
   ]
  },
  {
   "cell_type": "code",
   "execution_count": null,
   "id": "d8a3f6e9-0d93-4d78-9648-54f9fa0922dc",
   "metadata": {},
   "outputs": [],
   "source": [
    "import numpy as np\n",
    "import pandas as pd\n",
    "import matplotlib.pyplot as plt\n",
    "import seaborn as sns\n",
    "import plotly.express as px\n",
    "import sklearn"
   ]
  },
  {
   "cell_type": "markdown",
   "id": "4db7665e-6851-4faa-9f8f-367b5e280749",
   "metadata": {},
   "source": [
    "## Question 1"
   ]
  },
  {
   "cell_type": "markdown",
   "id": "7dccda3e-50df-49ec-99e0-fe4d3d2d59ed",
   "metadata": {},
   "source": [
    "Convert the target labels to their respective log values and give 2 reasons why this step\n",
    "may be useful as we train the machine learning model. (Explain in a markdown cell.)"
   ]
  },
  {
   "cell_type": "markdown",
   "id": "e9a5bdb9-9904-42b8-a02b-d91ac2467a6c",
   "metadata": {},
   "source": []
  },
  {
   "cell_type": "code",
   "execution_count": null,
   "id": "4348be3d-56d2-43b8-85a3-da0208f0a6bf",
   "metadata": {},
   "outputs": [],
   "source": []
  },
  {
   "cell_type": "markdown",
   "id": "c992f9d6-8609-44d3-bfdb-1e2a1d3e7253",
   "metadata": {},
   "source": [
    "## Question 2"
   ]
  },
  {
   "cell_type": "markdown",
   "id": "396f1c63-0bf0-458a-8f42-12c6832b8067",
   "metadata": {},
   "source": [
    "Slice the selected feature columns and the labels into the training and testing set. Also\n",
    "ensure your features are normalized."
   ]
  },
  {
   "cell_type": "code",
   "execution_count": null,
   "id": "02dd1d50-3891-448d-9ea9-49841127ccac",
   "metadata": {},
   "outputs": [],
   "source": []
  },
  {
   "cell_type": "markdown",
   "id": "ae22bee5-54f6-480d-bc8c-9757f8eec662",
   "metadata": {},
   "source": [
    "## Question 3"
   ]
  },
  {
   "cell_type": "markdown",
   "id": "372e7603-f07d-4407-841c-467b76630eb3",
   "metadata": {},
   "source": [
    "Use at least 4 different regression based machine learning methods and use the training\n",
    "and testing cross accuracy and divergence to identify the best model."
   ]
  },
  {
   "cell_type": "code",
   "execution_count": null,
   "id": "ff9db24a-3d9e-42b2-a317-c02e4f5b7c26",
   "metadata": {},
   "outputs": [],
   "source": []
  },
  {
   "cell_type": "markdown",
   "id": "7c143423-d436-4b40-87f4-5ff78670b5f9",
   "metadata": {},
   "source": [
    "## Question 4"
   ]
  },
  {
   "cell_type": "markdown",
   "id": "cb629c9d-310c-46e1-8f86-8312ea0dce72",
   "metadata": {},
   "source": [
    "After identifying the best model, train it with the training data again. Using at least 3\n",
    "model evaluation metrics in regression, evaluate the models training and testing score.\n",
    "Also ensure as you test the models, the predicted and actual targets have been converted\n",
    "back to the original values using antilog. (Hint: Antilog function is equal to Exponential)"
   ]
  },
  {
   "cell_type": "code",
   "execution_count": null,
   "id": "330f5daa-8624-4eff-9a20-9239e1366b00",
   "metadata": {},
   "outputs": [],
   "source": []
  }
 ],
 "metadata": {
  "kernelspec": {
   "display_name": "Python 3 (ipykernel)",
   "language": "python",
   "name": "python3"
  },
  "language_info": {
   "codemirror_mode": {
    "name": "ipython",
    "version": 3
   },
   "file_extension": ".py",
   "mimetype": "text/x-python",
   "name": "python",
   "nbconvert_exporter": "python",
   "pygments_lexer": "ipython3",
   "version": "3.9.7"
  }
 },
 "nbformat": 4,
 "nbformat_minor": 5
}
